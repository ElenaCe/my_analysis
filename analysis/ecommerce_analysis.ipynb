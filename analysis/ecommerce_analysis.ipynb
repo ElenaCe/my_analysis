{
 "cells": [
  {
   "cell_type": "code",
   "execution_count": 6,
   "metadata": {},
   "outputs": [],
   "source": [
    "import pandas as pd\n",
    "\n",
    "# Define the paths to the CSV files\n",
    "nov_csv_path = '/Users/elenacellitti/Downloads/ecommerce_data/ecommerce_nov_19.csv'\n",
    "oct_csv_path = '/Users/elenacellitti/Downloads/ecommerce_data/ecommerce_oct_19.csv'\n",
    "\n",
    "# Load the CSV files into pandas DataFrames\n",
    "nov_df = pd.read_csv(nov_csv_path)\n",
    "oct_df = pd.read_csv(oct_csv_path)\n",
    "\n",
    "# Extract month from the \"event_time\" column\n",
    "nov_df['month'] = pd.to_datetime(nov_df['event_time']).dt.month_name()\n",
    "oct_df['month'] = pd.to_datetime(oct_df['event_time']).dt.month_name()\n",
    "\n",
    "# Concatenate the DataFrames\n",
    "combined_df = pd.concat([nov_df, oct_df], ignore_index=True)\n",
    "\n",
    "# Display the first few rows of the combined DataFrame\n",
    "print(\"Combined DataFrame:\")\n",
    "print(combined_df.head())"
   ]
  },
  {
   "cell_type": "code",
   "execution_count": 2,
   "metadata": {},
   "outputs": [
    {
     "name": "stdout",
     "output_type": "stream",
     "text": [
      "<class 'pandas.core.frame.DataFrame'>\n",
      "RangeIndex: 0 entries\n",
      "Data columns (total 9 columns):\n",
      " #   Column         Non-Null Count  Dtype \n",
      "---  ------         --------------  ----- \n",
      " 0   event_time     0 non-null      object\n",
      " 1   event_type     0 non-null      object\n",
      " 2   product_id     0 non-null      object\n",
      " 3   category_id    0 non-null      object\n",
      " 4   category_code  0 non-null      object\n",
      " 5   brand          0 non-null      object\n",
      " 6   price          0 non-null      object\n",
      " 7   user_id        0 non-null      object\n",
      " 8   user_session   0 non-null      object\n",
      "dtypes: object(9)\n",
      "memory usage: 124.0+ bytes\n",
      "None\n"
     ]
    }
   ],
   "source": [
    "# Initial analaysis to understand the data\n",
    "\n",
    "# Get basic info on the dataset\n",
    "print(df.info())\n",
    "# # Get summary stats \n",
    "# print(df.describe()) \n",
    "\n",
    "\n",
    "\n"
   ]
  }
 ],
 "metadata": {
  "kernelspec": {
   "display_name": "Python 3",
   "language": "python",
   "name": "python3"
  },
  "language_info": {
   "codemirror_mode": {
    "name": "ipython",
    "version": 3
   },
   "file_extension": ".py",
   "mimetype": "text/x-python",
   "name": "python",
   "nbconvert_exporter": "python",
   "pygments_lexer": "ipython3",
   "version": "3.9.6"
  }
 },
 "nbformat": 4,
 "nbformat_minor": 2
}
