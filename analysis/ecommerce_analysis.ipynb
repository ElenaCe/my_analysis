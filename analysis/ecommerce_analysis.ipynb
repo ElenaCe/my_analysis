{
 "cells": [
  {
   "cell_type": "code",
   "execution_count": 6,
   "metadata": {},
   "outputs": [
    {
     "name": "stdout",
     "output_type": "stream",
     "text": [
      "Empty DataFrame\n",
      "Columns: [event_time, event_type, product_id, category_id, category_code, brand, price, user_id, user_session]\n",
      "Index: []\n"
     ]
    }
   ],
   "source": [
    "# Import extensions, connect to database and pull data into a dataframe\n",
    "\n",
    "import os\n",
    "import pandas as pd\n",
    "import psycopg2\n",
    "from sqlalchemy import create_engine\n",
    "from dotenv import load_dotenv\n",
    "\n",
    "\n",
    "# Connect to database \n",
    "# Load .env variables\n",
    "load_dotenv()\n",
    "\n",
    "# Database connection parameters from .env file\n",
    "dbname = os.getenv(\"DB_NAME\")\n",
    "user = os.getenv(\"DB_USER\")\n",
    "password = os.getenv(\"DB_PASSWORD\")\n",
    "host = os.getenv(\"DB_HOST\")\n",
    "port = os.getenv(\"DB_PORT\")\n",
    "\n",
    "# Create connection string\n",
    "connection_string = f\"postgresql://{user}:{password}@{host}:{port}/{dbname}\"\n",
    "\n",
    "engine = create_engine(connection_string)\n",
    "sql_query = \"SELECT * FROM ecommerce_schema.oct_nov_19\"\n",
    "\n",
    "# Save to dataframe\n",
    "df = pd.read_sql(sql_query, engine)\n",
    "\n",
    "# Print few lines to check data in the dataframe\n",
    "print(df.head())\n"
   ]
  },
  {
   "cell_type": "code",
   "execution_count": 7,
   "metadata": {},
   "outputs": [
    {
     "name": "stdout",
     "output_type": "stream",
     "text": [
      "<class 'pandas.core.frame.DataFrame'>\n",
      "RangeIndex: 0 entries\n",
      "Data columns (total 9 columns):\n",
      " #   Column         Non-Null Count  Dtype \n",
      "---  ------         --------------  ----- \n",
      " 0   event_time     0 non-null      object\n",
      " 1   event_type     0 non-null      object\n",
      " 2   product_id     0 non-null      object\n",
      " 3   category_id    0 non-null      object\n",
      " 4   category_code  0 non-null      object\n",
      " 5   brand          0 non-null      object\n",
      " 6   price          0 non-null      object\n",
      " 7   user_id        0 non-null      object\n",
      " 8   user_session   0 non-null      object\n",
      "dtypes: object(9)\n",
      "memory usage: 124.0+ bytes\n",
      "None\n"
     ]
    }
   ],
   "source": [
    "# Initial analaysis to understand the data\n",
    "\n",
    "# Get basic info on the dataset\n",
    "print(df.info())\n",
    "# # Get summary stats \n",
    "# print(df.describe()) \n",
    "\n",
    "\n",
    "\n"
   ]
  }
 ],
 "metadata": {
  "kernelspec": {
   "display_name": "Python 3",
   "language": "python",
   "name": "python3"
  },
  "language_info": {
   "codemirror_mode": {
    "name": "ipython",
    "version": 3
   },
   "file_extension": ".py",
   "mimetype": "text/x-python",
   "name": "python",
   "nbconvert_exporter": "python",
   "pygments_lexer": "ipython3",
   "version": "3.9.6"
  }
 },
 "nbformat": 4,
 "nbformat_minor": 2
}
